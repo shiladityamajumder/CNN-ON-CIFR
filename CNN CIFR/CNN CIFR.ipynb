{
 "cells": [
  {
   "cell_type": "markdown",
   "metadata": {
    "id": "kdFDzYpy7LJ0"
   },
   "source": [
    "### CNN on CIFR Assignment:"
   ]
  },
  {
   "cell_type": "markdown",
   "metadata": {
    "id": "DLwPwc417LKD"
   },
   "source": [
    "1.  Please visit this link to access the state-of-art DenseNet code for reference - DenseNet - cifar10 notebook link\n",
    "2.  You need to create a copy of this and \"retrain\" this model to achieve 90+ test accuracy. \n",
    "3.  You cannot use DropOut layers.\n",
    "4.  You MUST use Image Augmentation Techniques.\n",
    "5.  You cannot use an already trained model as a beginning points, you have to initilize as your own\n",
    "6.  You cannot run the program for more than 300 Epochs, and it should be clear from your log, that you have only used 300 Epochs\n",
    "7.  You cannot use test images for training the model.\n",
    "8.  You cannot change the general architecture of DenseNet (which means you must use Dense Block, Transition and Output blocks as mentioned in the code)\n",
    "9.  You are free to change Convolution types (e.g. from 3x3 normal convolution to Depthwise Separable, etc)\n",
    "10. You cannot have more than 1 Million parameters in total\n",
    "11. You are free to move the code from Keras to Tensorflow, Pytorch, MXNET etc. \n",
    "12. You can use any optimization algorithm you need. \n",
    "13. You can checkpoint your model and retrain the model from that checkpoint so that no need of training the model from first if you lost at any epoch while training. You can directly load that model and Train from that epoch. "
   ]
  },
  {
   "cell_type": "code",
   "execution_count": 1,
   "metadata": {
    "id": "2KPd39hLKit0"
   },
   "outputs": [],
   "source": [
    "# Importing required libraries \n",
    "import warnings\n",
    "warnings.filterwarnings('ignore')\n",
    "import tensorflow as tf\n",
    "from tensorflow.keras import models, layers\n",
    "from tensorflow.keras.models import Model\n",
    "from keras.models import load_model\n",
    "from tensorflow.keras.optimizers import Adam\n",
    "import keras\n",
    "from keras.preprocessing.image import ImageDataGenerator\n",
    "from keras.layers import Dense, Dropout, Flatten, Input, AveragePooling2D, merge, Activation\n",
    "from keras.layers import Conv2D, MaxPooling2D, BatchNormalization, DepthwiseConv2D\n",
    "from keras.layers import Concatenate"
   ]
  },
  {
   "cell_type": "code",
   "execution_count": 2,
   "metadata": {
    "id": "xwUk3GTiKwWI"
   },
   "outputs": [],
   "source": [
    "# This code snippet is copied from DenseNet - cifar10.ipynb, provided by Applied AI\n",
    "# Hyperparameters\n",
    "batch_size = 128\n",
    "num_classes = 10\n",
    "epochs = 100\n",
    "l = 10\n",
    "num_filter = 42\n",
    "compression = 0.5\n",
    "dropout_rate = 0"
   ]
  },
  {
   "cell_type": "code",
   "execution_count": 3,
   "metadata": {
    "colab": {
     "base_uri": "https://localhost:8080/"
    },
    "id": "Cut4KBkHK0lJ",
    "outputId": "2000663f-991f-4cad-c402-9a824df7abde"
   },
   "outputs": [
    {
     "name": "stdout",
     "output_type": "stream",
     "text": [
      "Downloading data from https://www.cs.toronto.edu/~kriz/cifar-10-python.tar.gz\n",
      "170500096/170498071 [==============================] - 2s 0us/step\n"
     ]
    }
   ],
   "source": [
    "# This code snippet is copied from DenseNet - cifar10.ipynb, provided by Applied AI\n",
    "# load dataset\n",
    "(X_train, y_train), (X_test, y_test) = keras.datasets.cifar10.load_data()\n",
    "img_height, img_width, channel = X_train.shape[1],X_train.shape[2],X_train.shape[3]\n",
    "# one hot encode target values\n",
    "y_train = keras.utils.to_categorical(y_train, num_classes)\n",
    "y_test = keras.utils.to_categorical(y_test, num_classes)"
   ]
  },
  {
   "cell_type": "code",
   "execution_count": 4,
   "metadata": {
    "colab": {
     "base_uri": "https://localhost:8080/"
    },
    "id": "RhGYCkvIzmEA",
    "outputId": "41933d09-81b9-4105-85fe-69fc0b97ce96"
   },
   "outputs": [
    {
     "data": {
      "text/plain": [
       "(50000, 32, 32, 3)"
      ]
     },
     "execution_count": 4,
     "metadata": {
      "tags": []
     },
     "output_type": "execute_result"
    }
   ],
   "source": [
    "X_train.shape"
   ]
  },
  {
   "cell_type": "code",
   "execution_count": 5,
   "metadata": {
    "colab": {
     "base_uri": "https://localhost:8080/"
    },
    "id": "Pfmo5XCFzmEA",
    "outputId": "c4215e10-2662-4da9-d5aa-7d4b98f193f9"
   },
   "outputs": [
    {
     "data": {
      "text/plain": [
       "(10000, 32, 32, 3)"
      ]
     },
     "execution_count": 5,
     "metadata": {
      "tags": []
     },
     "output_type": "execute_result"
    }
   ],
   "source": [
    "X_test.shape"
   ]
  },
  {
   "cell_type": "code",
   "execution_count": 6,
   "metadata": {
    "colab": {
     "base_uri": "https://localhost:8080/"
    },
    "id": "HoYSR-v1zmEA",
    "outputId": "2be7c21d-814f-4345-d7af-674d738261cc"
   },
   "outputs": [
    {
     "data": {
      "text/plain": [
       "(50000, 10)"
      ]
     },
     "execution_count": 6,
     "metadata": {
      "tags": []
     },
     "output_type": "execute_result"
    }
   ],
   "source": [
    "y_train.shape"
   ]
  },
  {
   "cell_type": "code",
   "execution_count": 7,
   "metadata": {
    "colab": {
     "base_uri": "https://localhost:8080/"
    },
    "id": "oWMMnbrHzmEA",
    "outputId": "a9b23e4f-acc4-41c3-d801-9b184e599ddd"
   },
   "outputs": [
    {
     "data": {
      "text/plain": [
       "(10000, 10)"
      ]
     },
     "execution_count": 7,
     "metadata": {
      "tags": []
     },
     "output_type": "execute_result"
    }
   ],
   "source": [
    "y_test.shape"
   ]
  },
  {
   "cell_type": "markdown",
   "metadata": {
    "id": "PYrYX80XzmEB"
   },
   "source": [
    "#Ref - https://machinelearningmastery.com/how-to-develop-a-cnn-from-scratch-for-cifar-10-photo-classification/\n",
    "![](cnn_cifr_1.png)"
   ]
  },
  {
   "cell_type": "code",
   "execution_count": 8,
   "metadata": {
    "id": "LlM_gCNVSzwo"
   },
   "outputs": [],
   "source": [
    "# scale pixels\n",
    "def prep_pixels(train, test):\n",
    "    # convert from integers to floats\n",
    "    train_norm = train.astype('float32')\n",
    "    test_norm = test.astype('float32')\n",
    "    # normalize to range 0-1\n",
    "    train_norm = train_norm / 255.0\n",
    "    test_norm = test_norm / 255.0\n",
    "    # return normalized images\n",
    "    return train_norm, test_norm"
   ]
  },
  {
   "cell_type": "code",
   "execution_count": 9,
   "metadata": {
    "id": "7hakMjhGS7V1"
   },
   "outputs": [],
   "source": [
    "X_train,X_test=prep_pixels(X_train,X_test)"
   ]
  },
  {
   "cell_type": "code",
   "execution_count": 10,
   "metadata": {
    "id": "yqAV-YLEp6oB"
   },
   "outputs": [],
   "source": [
    "# This code snippet is copied from DenseNet - cifar10.ipynb, provided by Applied AI\n",
    "# Dense Block\n",
    "def denseblock(input, num_filter = 12, dropout_rate = 0.2):\n",
    "    global compression\n",
    "    temp = input\n",
    "    for _ in range(l): \n",
    "        BatchNorm = layers.BatchNormalization()(temp)\n",
    "        relu = layers.Activation('relu')(BatchNorm)\n",
    "        Conv2D_3_3 = layers.Conv2D(int(num_filter*compression), (3,3), use_bias=False ,padding='same')(relu)\n",
    "        if dropout_rate>0:\n",
    "            Conv2D_3_3 = layers.Dropout(dropout_rate)(Conv2D_3_3)\n",
    "        concat = layers.Concatenate(axis=-1)([temp,Conv2D_3_3])\n",
    "        \n",
    "        temp = concat\n",
    "        \n",
    "    return temp\n",
    "\n",
    "## transition Blosck\n",
    "def transition(input, num_filter = 12, dropout_rate = 0.2):\n",
    "    global compression\n",
    "    BatchNorm = layers.BatchNormalization()(input)\n",
    "    relu = layers.Activation('relu')(BatchNorm)\n",
    "    Conv2D_BottleNeck = layers.Conv2D(int(num_filter*compression), (1,1), use_bias=False ,padding='same')(relu)\n",
    "    if dropout_rate>0:\n",
    "         Conv2D_BottleNeck = layers.Dropout(dropout_rate)(Conv2D_BottleNeck)\n",
    "    avg = layers.AveragePooling2D(pool_size=(2,2))(Conv2D_BottleNeck)\n",
    "    return avg\n",
    "\n",
    "#output layer\n",
    "def output_layer(input):\n",
    "    global compression\n",
    "    BatchNorm = layers.BatchNormalization()(input)\n",
    "    relu = layers.Activation('relu')(BatchNorm)\n",
    "    AvgPooling = layers.AveragePooling2D(pool_size=(2,2))(relu)\n",
    "    flat = layers.Flatten()(AvgPooling)\n",
    "    output = layers.Dense(num_classes, activation='softmax')(flat)\n",
    "    return output"
   ]
  },
  {
   "cell_type": "code",
   "execution_count": 11,
   "metadata": {
    "id": "vTtSeZcfTOZJ"
   },
   "outputs": [],
   "source": [
    "# This code snippet is copied from DenseNet - cifar10.ipynb, provided by Applied AI\n",
    "input = layers.Input(shape=(img_height, img_width, channel,))\n",
    "First_Conv2D = Conv2D(num_filter, (3,3), use_bias=False ,padding='same')(input)\n",
    "\n",
    "First_Block = denseblock(First_Conv2D, num_filter, dropout_rate)\n",
    "First_Transition = transition(First_Block, num_filter, dropout_rate)\n",
    "\n",
    "Second_Block = denseblock(First_Transition, num_filter, dropout_rate)\n",
    "Second_Transition = transition(Second_Block, num_filter, dropout_rate)\n",
    "\n",
    "Third_Block = denseblock(Second_Transition, num_filter, dropout_rate)\n",
    "Third_Transition = transition(Third_Block, num_filter, dropout_rate)\n",
    "\n",
    "Last_Block = denseblock(Third_Transition,  num_filter, dropout_rate)\n",
    "output = output_layer(Last_Block)"
   ]
  },
  {
   "cell_type": "code",
   "execution_count": 12,
   "metadata": {
    "colab": {
     "base_uri": "https://localhost:8080/"
    },
    "id": "R94YSyW1TkHK",
    "outputId": "875c9a80-5501-4c4e-9a56-e1fa8641842a"
   },
   "outputs": [
    {
     "name": "stdout",
     "output_type": "stream",
     "text": [
      "Model: \"model\"\n",
      "__________________________________________________________________________________________________\n",
      "Layer (type)                    Output Shape         Param #     Connected to                     \n",
      "==================================================================================================\n",
      "input_1 (InputLayer)            [(None, 32, 32, 3)]  0                                            \n",
      "__________________________________________________________________________________________________\n",
      "conv2d (Conv2D)                 (None, 32, 32, 42)   1134        input_1[0][0]                    \n",
      "__________________________________________________________________________________________________\n",
      "batch_normalization (BatchNorma (None, 32, 32, 42)   168         conv2d[0][0]                     \n",
      "__________________________________________________________________________________________________\n",
      "activation (Activation)         (None, 32, 32, 42)   0           batch_normalization[0][0]        \n",
      "__________________________________________________________________________________________________\n",
      "conv2d_1 (Conv2D)               (None, 32, 32, 21)   7938        activation[0][0]                 \n",
      "__________________________________________________________________________________________________\n",
      "concatenate (Concatenate)       (None, 32, 32, 63)   0           conv2d[0][0]                     \n",
      "                                                                 conv2d_1[0][0]                   \n",
      "__________________________________________________________________________________________________\n",
      "batch_normalization_1 (BatchNor (None, 32, 32, 63)   252         concatenate[0][0]                \n",
      "__________________________________________________________________________________________________\n",
      "activation_1 (Activation)       (None, 32, 32, 63)   0           batch_normalization_1[0][0]      \n",
      "__________________________________________________________________________________________________\n",
      "conv2d_2 (Conv2D)               (None, 32, 32, 21)   11907       activation_1[0][0]               \n",
      "__________________________________________________________________________________________________\n",
      "concatenate_1 (Concatenate)     (None, 32, 32, 84)   0           concatenate[0][0]                \n",
      "                                                                 conv2d_2[0][0]                   \n",
      "__________________________________________________________________________________________________\n",
      "batch_normalization_2 (BatchNor (None, 32, 32, 84)   336         concatenate_1[0][0]              \n",
      "__________________________________________________________________________________________________\n",
      "activation_2 (Activation)       (None, 32, 32, 84)   0           batch_normalization_2[0][0]      \n",
      "__________________________________________________________________________________________________\n",
      "conv2d_3 (Conv2D)               (None, 32, 32, 21)   15876       activation_2[0][0]               \n",
      "__________________________________________________________________________________________________\n",
      "concatenate_2 (Concatenate)     (None, 32, 32, 105)  0           concatenate_1[0][0]              \n",
      "                                                                 conv2d_3[0][0]                   \n",
      "__________________________________________________________________________________________________\n",
      "batch_normalization_3 (BatchNor (None, 32, 32, 105)  420         concatenate_2[0][0]              \n",
      "__________________________________________________________________________________________________\n",
      "activation_3 (Activation)       (None, 32, 32, 105)  0           batch_normalization_3[0][0]      \n",
      "__________________________________________________________________________________________________\n",
      "conv2d_4 (Conv2D)               (None, 32, 32, 21)   19845       activation_3[0][0]               \n",
      "__________________________________________________________________________________________________\n",
      "concatenate_3 (Concatenate)     (None, 32, 32, 126)  0           concatenate_2[0][0]              \n",
      "                                                                 conv2d_4[0][0]                   \n",
      "__________________________________________________________________________________________________\n",
      "batch_normalization_4 (BatchNor (None, 32, 32, 126)  504         concatenate_3[0][0]              \n",
      "__________________________________________________________________________________________________\n",
      "activation_4 (Activation)       (None, 32, 32, 126)  0           batch_normalization_4[0][0]      \n",
      "__________________________________________________________________________________________________\n",
      "conv2d_5 (Conv2D)               (None, 32, 32, 21)   23814       activation_4[0][0]               \n",
      "__________________________________________________________________________________________________\n",
      "concatenate_4 (Concatenate)     (None, 32, 32, 147)  0           concatenate_3[0][0]              \n",
      "                                                                 conv2d_5[0][0]                   \n",
      "__________________________________________________________________________________________________\n",
      "batch_normalization_5 (BatchNor (None, 32, 32, 147)  588         concatenate_4[0][0]              \n",
      "__________________________________________________________________________________________________\n",
      "activation_5 (Activation)       (None, 32, 32, 147)  0           batch_normalization_5[0][0]      \n",
      "__________________________________________________________________________________________________\n",
      "conv2d_6 (Conv2D)               (None, 32, 32, 21)   27783       activation_5[0][0]               \n",
      "__________________________________________________________________________________________________\n",
      "concatenate_5 (Concatenate)     (None, 32, 32, 168)  0           concatenate_4[0][0]              \n",
      "                                                                 conv2d_6[0][0]                   \n",
      "__________________________________________________________________________________________________\n",
      "batch_normalization_6 (BatchNor (None, 32, 32, 168)  672         concatenate_5[0][0]              \n",
      "__________________________________________________________________________________________________\n",
      "activation_6 (Activation)       (None, 32, 32, 168)  0           batch_normalization_6[0][0]      \n",
      "__________________________________________________________________________________________________\n",
      "conv2d_7 (Conv2D)               (None, 32, 32, 21)   31752       activation_6[0][0]               \n",
      "__________________________________________________________________________________________________\n",
      "concatenate_6 (Concatenate)     (None, 32, 32, 189)  0           concatenate_5[0][0]              \n",
      "                                                                 conv2d_7[0][0]                   \n",
      "__________________________________________________________________________________________________\n",
      "batch_normalization_7 (BatchNor (None, 32, 32, 189)  756         concatenate_6[0][0]              \n",
      "__________________________________________________________________________________________________\n",
      "activation_7 (Activation)       (None, 32, 32, 189)  0           batch_normalization_7[0][0]      \n",
      "__________________________________________________________________________________________________\n",
      "conv2d_8 (Conv2D)               (None, 32, 32, 21)   35721       activation_7[0][0]               \n",
      "__________________________________________________________________________________________________\n",
      "concatenate_7 (Concatenate)     (None, 32, 32, 210)  0           concatenate_6[0][0]              \n",
      "                                                                 conv2d_8[0][0]                   \n",
      "__________________________________________________________________________________________________\n",
      "batch_normalization_8 (BatchNor (None, 32, 32, 210)  840         concatenate_7[0][0]              \n",
      "__________________________________________________________________________________________________\n",
      "activation_8 (Activation)       (None, 32, 32, 210)  0           batch_normalization_8[0][0]      \n",
      "__________________________________________________________________________________________________\n",
      "conv2d_9 (Conv2D)               (None, 32, 32, 21)   39690       activation_8[0][0]               \n",
      "__________________________________________________________________________________________________\n",
      "concatenate_8 (Concatenate)     (None, 32, 32, 231)  0           concatenate_7[0][0]              \n",
      "                                                                 conv2d_9[0][0]                   \n",
      "__________________________________________________________________________________________________\n",
      "batch_normalization_9 (BatchNor (None, 32, 32, 231)  924         concatenate_8[0][0]              \n",
      "__________________________________________________________________________________________________\n",
      "activation_9 (Activation)       (None, 32, 32, 231)  0           batch_normalization_9[0][0]      \n",
      "__________________________________________________________________________________________________\n",
      "conv2d_10 (Conv2D)              (None, 32, 32, 21)   43659       activation_9[0][0]               \n",
      "__________________________________________________________________________________________________\n",
      "concatenate_9 (Concatenate)     (None, 32, 32, 252)  0           concatenate_8[0][0]              \n",
      "                                                                 conv2d_10[0][0]                  \n",
      "__________________________________________________________________________________________________\n",
      "batch_normalization_10 (BatchNo (None, 32, 32, 252)  1008        concatenate_9[0][0]              \n",
      "__________________________________________________________________________________________________\n",
      "activation_10 (Activation)      (None, 32, 32, 252)  0           batch_normalization_10[0][0]     \n",
      "__________________________________________________________________________________________________\n",
      "conv2d_11 (Conv2D)              (None, 32, 32, 21)   5292        activation_10[0][0]              \n",
      "__________________________________________________________________________________________________\n",
      "average_pooling2d (AveragePooli (None, 16, 16, 21)   0           conv2d_11[0][0]                  \n",
      "__________________________________________________________________________________________________\n",
      "batch_normalization_11 (BatchNo (None, 16, 16, 21)   84          average_pooling2d[0][0]          \n",
      "__________________________________________________________________________________________________\n",
      "activation_11 (Activation)      (None, 16, 16, 21)   0           batch_normalization_11[0][0]     \n",
      "__________________________________________________________________________________________________\n",
      "conv2d_12 (Conv2D)              (None, 16, 16, 21)   3969        activation_11[0][0]              \n",
      "__________________________________________________________________________________________________\n",
      "concatenate_10 (Concatenate)    (None, 16, 16, 42)   0           average_pooling2d[0][0]          \n",
      "                                                                 conv2d_12[0][0]                  \n",
      "__________________________________________________________________________________________________\n",
      "batch_normalization_12 (BatchNo (None, 16, 16, 42)   168         concatenate_10[0][0]             \n",
      "__________________________________________________________________________________________________\n",
      "activation_12 (Activation)      (None, 16, 16, 42)   0           batch_normalization_12[0][0]     \n",
      "__________________________________________________________________________________________________\n",
      "conv2d_13 (Conv2D)              (None, 16, 16, 21)   7938        activation_12[0][0]              \n",
      "__________________________________________________________________________________________________\n",
      "concatenate_11 (Concatenate)    (None, 16, 16, 63)   0           concatenate_10[0][0]             \n",
      "                                                                 conv2d_13[0][0]                  \n",
      "__________________________________________________________________________________________________\n",
      "batch_normalization_13 (BatchNo (None, 16, 16, 63)   252         concatenate_11[0][0]             \n",
      "__________________________________________________________________________________________________\n",
      "activation_13 (Activation)      (None, 16, 16, 63)   0           batch_normalization_13[0][0]     \n",
      "__________________________________________________________________________________________________\n",
      "conv2d_14 (Conv2D)              (None, 16, 16, 21)   11907       activation_13[0][0]              \n",
      "__________________________________________________________________________________________________\n",
      "concatenate_12 (Concatenate)    (None, 16, 16, 84)   0           concatenate_11[0][0]             \n",
      "                                                                 conv2d_14[0][0]                  \n",
      "__________________________________________________________________________________________________\n",
      "batch_normalization_14 (BatchNo (None, 16, 16, 84)   336         concatenate_12[0][0]             \n",
      "__________________________________________________________________________________________________\n",
      "activation_14 (Activation)      (None, 16, 16, 84)   0           batch_normalization_14[0][0]     \n",
      "__________________________________________________________________________________________________\n",
      "conv2d_15 (Conv2D)              (None, 16, 16, 21)   15876       activation_14[0][0]              \n",
      "__________________________________________________________________________________________________\n",
      "concatenate_13 (Concatenate)    (None, 16, 16, 105)  0           concatenate_12[0][0]             \n",
      "                                                                 conv2d_15[0][0]                  \n",
      "__________________________________________________________________________________________________\n",
      "batch_normalization_15 (BatchNo (None, 16, 16, 105)  420         concatenate_13[0][0]             \n",
      "__________________________________________________________________________________________________\n",
      "activation_15 (Activation)      (None, 16, 16, 105)  0           batch_normalization_15[0][0]     \n",
      "__________________________________________________________________________________________________\n",
      "conv2d_16 (Conv2D)              (None, 16, 16, 21)   19845       activation_15[0][0]              \n",
      "__________________________________________________________________________________________________\n",
      "concatenate_14 (Concatenate)    (None, 16, 16, 126)  0           concatenate_13[0][0]             \n",
      "                                                                 conv2d_16[0][0]                  \n",
      "__________________________________________________________________________________________________\n",
      "batch_normalization_16 (BatchNo (None, 16, 16, 126)  504         concatenate_14[0][0]             \n",
      "__________________________________________________________________________________________________\n",
      "activation_16 (Activation)      (None, 16, 16, 126)  0           batch_normalization_16[0][0]     \n",
      "__________________________________________________________________________________________________\n",
      "conv2d_17 (Conv2D)              (None, 16, 16, 21)   23814       activation_16[0][0]              \n",
      "__________________________________________________________________________________________________\n",
      "concatenate_15 (Concatenate)    (None, 16, 16, 147)  0           concatenate_14[0][0]             \n",
      "                                                                 conv2d_17[0][0]                  \n",
      "__________________________________________________________________________________________________\n",
      "batch_normalization_17 (BatchNo (None, 16, 16, 147)  588         concatenate_15[0][0]             \n",
      "__________________________________________________________________________________________________\n",
      "activation_17 (Activation)      (None, 16, 16, 147)  0           batch_normalization_17[0][0]     \n",
      "__________________________________________________________________________________________________\n",
      "conv2d_18 (Conv2D)              (None, 16, 16, 21)   27783       activation_17[0][0]              \n",
      "__________________________________________________________________________________________________\n",
      "concatenate_16 (Concatenate)    (None, 16, 16, 168)  0           concatenate_15[0][0]             \n",
      "                                                                 conv2d_18[0][0]                  \n",
      "__________________________________________________________________________________________________\n",
      "batch_normalization_18 (BatchNo (None, 16, 16, 168)  672         concatenate_16[0][0]             \n",
      "__________________________________________________________________________________________________\n",
      "activation_18 (Activation)      (None, 16, 16, 168)  0           batch_normalization_18[0][0]     \n",
      "__________________________________________________________________________________________________\n",
      "conv2d_19 (Conv2D)              (None, 16, 16, 21)   31752       activation_18[0][0]              \n",
      "__________________________________________________________________________________________________\n",
      "concatenate_17 (Concatenate)    (None, 16, 16, 189)  0           concatenate_16[0][0]             \n",
      "                                                                 conv2d_19[0][0]                  \n",
      "__________________________________________________________________________________________________\n",
      "batch_normalization_19 (BatchNo (None, 16, 16, 189)  756         concatenate_17[0][0]             \n",
      "__________________________________________________________________________________________________\n",
      "activation_19 (Activation)      (None, 16, 16, 189)  0           batch_normalization_19[0][0]     \n",
      "__________________________________________________________________________________________________\n",
      "conv2d_20 (Conv2D)              (None, 16, 16, 21)   35721       activation_19[0][0]              \n",
      "__________________________________________________________________________________________________\n",
      "concatenate_18 (Concatenate)    (None, 16, 16, 210)  0           concatenate_17[0][0]             \n",
      "                                                                 conv2d_20[0][0]                  \n",
      "__________________________________________________________________________________________________\n",
      "batch_normalization_20 (BatchNo (None, 16, 16, 210)  840         concatenate_18[0][0]             \n",
      "__________________________________________________________________________________________________\n",
      "activation_20 (Activation)      (None, 16, 16, 210)  0           batch_normalization_20[0][0]     \n",
      "__________________________________________________________________________________________________\n",
      "conv2d_21 (Conv2D)              (None, 16, 16, 21)   39690       activation_20[0][0]              \n",
      "__________________________________________________________________________________________________\n",
      "concatenate_19 (Concatenate)    (None, 16, 16, 231)  0           concatenate_18[0][0]             \n",
      "                                                                 conv2d_21[0][0]                  \n",
      "__________________________________________________________________________________________________\n",
      "batch_normalization_21 (BatchNo (None, 16, 16, 231)  924         concatenate_19[0][0]             \n",
      "__________________________________________________________________________________________________\n",
      "activation_21 (Activation)      (None, 16, 16, 231)  0           batch_normalization_21[0][0]     \n",
      "__________________________________________________________________________________________________\n",
      "conv2d_22 (Conv2D)              (None, 16, 16, 21)   4851        activation_21[0][0]              \n",
      "__________________________________________________________________________________________________\n",
      "average_pooling2d_1 (AveragePoo (None, 8, 8, 21)     0           conv2d_22[0][0]                  \n",
      "__________________________________________________________________________________________________\n",
      "batch_normalization_22 (BatchNo (None, 8, 8, 21)     84          average_pooling2d_1[0][0]        \n",
      "__________________________________________________________________________________________________\n",
      "activation_22 (Activation)      (None, 8, 8, 21)     0           batch_normalization_22[0][0]     \n",
      "__________________________________________________________________________________________________\n",
      "conv2d_23 (Conv2D)              (None, 8, 8, 21)     3969        activation_22[0][0]              \n",
      "__________________________________________________________________________________________________\n",
      "concatenate_20 (Concatenate)    (None, 8, 8, 42)     0           average_pooling2d_1[0][0]        \n",
      "                                                                 conv2d_23[0][0]                  \n",
      "__________________________________________________________________________________________________\n",
      "batch_normalization_23 (BatchNo (None, 8, 8, 42)     168         concatenate_20[0][0]             \n",
      "__________________________________________________________________________________________________\n",
      "activation_23 (Activation)      (None, 8, 8, 42)     0           batch_normalization_23[0][0]     \n",
      "__________________________________________________________________________________________________\n",
      "conv2d_24 (Conv2D)              (None, 8, 8, 21)     7938        activation_23[0][0]              \n",
      "__________________________________________________________________________________________________\n",
      "concatenate_21 (Concatenate)    (None, 8, 8, 63)     0           concatenate_20[0][0]             \n",
      "                                                                 conv2d_24[0][0]                  \n",
      "__________________________________________________________________________________________________\n",
      "batch_normalization_24 (BatchNo (None, 8, 8, 63)     252         concatenate_21[0][0]             \n",
      "__________________________________________________________________________________________________\n",
      "activation_24 (Activation)      (None, 8, 8, 63)     0           batch_normalization_24[0][0]     \n",
      "__________________________________________________________________________________________________\n",
      "conv2d_25 (Conv2D)              (None, 8, 8, 21)     11907       activation_24[0][0]              \n",
      "__________________________________________________________________________________________________\n",
      "concatenate_22 (Concatenate)    (None, 8, 8, 84)     0           concatenate_21[0][0]             \n",
      "                                                                 conv2d_25[0][0]                  \n",
      "__________________________________________________________________________________________________\n",
      "batch_normalization_25 (BatchNo (None, 8, 8, 84)     336         concatenate_22[0][0]             \n",
      "__________________________________________________________________________________________________\n",
      "activation_25 (Activation)      (None, 8, 8, 84)     0           batch_normalization_25[0][0]     \n",
      "__________________________________________________________________________________________________\n",
      "conv2d_26 (Conv2D)              (None, 8, 8, 21)     15876       activation_25[0][0]              \n",
      "__________________________________________________________________________________________________\n",
      "concatenate_23 (Concatenate)    (None, 8, 8, 105)    0           concatenate_22[0][0]             \n",
      "                                                                 conv2d_26[0][0]                  \n",
      "__________________________________________________________________________________________________\n",
      "batch_normalization_26 (BatchNo (None, 8, 8, 105)    420         concatenate_23[0][0]             \n",
      "__________________________________________________________________________________________________\n",
      "activation_26 (Activation)      (None, 8, 8, 105)    0           batch_normalization_26[0][0]     \n",
      "__________________________________________________________________________________________________\n",
      "conv2d_27 (Conv2D)              (None, 8, 8, 21)     19845       activation_26[0][0]              \n",
      "__________________________________________________________________________________________________\n",
      "concatenate_24 (Concatenate)    (None, 8, 8, 126)    0           concatenate_23[0][0]             \n",
      "                                                                 conv2d_27[0][0]                  \n",
      "__________________________________________________________________________________________________\n",
      "batch_normalization_27 (BatchNo (None, 8, 8, 126)    504         concatenate_24[0][0]             \n",
      "__________________________________________________________________________________________________\n",
      "activation_27 (Activation)      (None, 8, 8, 126)    0           batch_normalization_27[0][0]     \n",
      "__________________________________________________________________________________________________\n",
      "conv2d_28 (Conv2D)              (None, 8, 8, 21)     23814       activation_27[0][0]              \n",
      "__________________________________________________________________________________________________\n",
      "concatenate_25 (Concatenate)    (None, 8, 8, 147)    0           concatenate_24[0][0]             \n",
      "                                                                 conv2d_28[0][0]                  \n",
      "__________________________________________________________________________________________________\n",
      "batch_normalization_28 (BatchNo (None, 8, 8, 147)    588         concatenate_25[0][0]             \n",
      "__________________________________________________________________________________________________\n",
      "activation_28 (Activation)      (None, 8, 8, 147)    0           batch_normalization_28[0][0]     \n",
      "__________________________________________________________________________________________________\n",
      "conv2d_29 (Conv2D)              (None, 8, 8, 21)     27783       activation_28[0][0]              \n",
      "__________________________________________________________________________________________________\n",
      "concatenate_26 (Concatenate)    (None, 8, 8, 168)    0           concatenate_25[0][0]             \n",
      "                                                                 conv2d_29[0][0]                  \n",
      "__________________________________________________________________________________________________\n",
      "batch_normalization_29 (BatchNo (None, 8, 8, 168)    672         concatenate_26[0][0]             \n",
      "__________________________________________________________________________________________________\n",
      "activation_29 (Activation)      (None, 8, 8, 168)    0           batch_normalization_29[0][0]     \n",
      "__________________________________________________________________________________________________\n",
      "conv2d_30 (Conv2D)              (None, 8, 8, 21)     31752       activation_29[0][0]              \n",
      "__________________________________________________________________________________________________\n",
      "concatenate_27 (Concatenate)    (None, 8, 8, 189)    0           concatenate_26[0][0]             \n",
      "                                                                 conv2d_30[0][0]                  \n",
      "__________________________________________________________________________________________________\n",
      "batch_normalization_30 (BatchNo (None, 8, 8, 189)    756         concatenate_27[0][0]             \n",
      "__________________________________________________________________________________________________\n",
      "activation_30 (Activation)      (None, 8, 8, 189)    0           batch_normalization_30[0][0]     \n",
      "__________________________________________________________________________________________________\n",
      "conv2d_31 (Conv2D)              (None, 8, 8, 21)     35721       activation_30[0][0]              \n",
      "__________________________________________________________________________________________________\n",
      "concatenate_28 (Concatenate)    (None, 8, 8, 210)    0           concatenate_27[0][0]             \n",
      "                                                                 conv2d_31[0][0]                  \n",
      "__________________________________________________________________________________________________\n",
      "batch_normalization_31 (BatchNo (None, 8, 8, 210)    840         concatenate_28[0][0]             \n",
      "__________________________________________________________________________________________________\n",
      "activation_31 (Activation)      (None, 8, 8, 210)    0           batch_normalization_31[0][0]     \n",
      "__________________________________________________________________________________________________\n",
      "conv2d_32 (Conv2D)              (None, 8, 8, 21)     39690       activation_31[0][0]              \n",
      "__________________________________________________________________________________________________\n",
      "concatenate_29 (Concatenate)    (None, 8, 8, 231)    0           concatenate_28[0][0]             \n",
      "                                                                 conv2d_32[0][0]                  \n",
      "__________________________________________________________________________________________________\n",
      "batch_normalization_32 (BatchNo (None, 8, 8, 231)    924         concatenate_29[0][0]             \n",
      "__________________________________________________________________________________________________\n",
      "activation_32 (Activation)      (None, 8, 8, 231)    0           batch_normalization_32[0][0]     \n",
      "__________________________________________________________________________________________________\n",
      "conv2d_33 (Conv2D)              (None, 8, 8, 21)     4851        activation_32[0][0]              \n",
      "__________________________________________________________________________________________________\n",
      "average_pooling2d_2 (AveragePoo (None, 4, 4, 21)     0           conv2d_33[0][0]                  \n",
      "__________________________________________________________________________________________________\n",
      "batch_normalization_33 (BatchNo (None, 4, 4, 21)     84          average_pooling2d_2[0][0]        \n",
      "__________________________________________________________________________________________________\n",
      "activation_33 (Activation)      (None, 4, 4, 21)     0           batch_normalization_33[0][0]     \n",
      "__________________________________________________________________________________________________\n",
      "conv2d_34 (Conv2D)              (None, 4, 4, 21)     3969        activation_33[0][0]              \n",
      "__________________________________________________________________________________________________\n",
      "concatenate_30 (Concatenate)    (None, 4, 4, 42)     0           average_pooling2d_2[0][0]        \n",
      "                                                                 conv2d_34[0][0]                  \n",
      "__________________________________________________________________________________________________\n",
      "batch_normalization_34 (BatchNo (None, 4, 4, 42)     168         concatenate_30[0][0]             \n",
      "__________________________________________________________________________________________________\n",
      "activation_34 (Activation)      (None, 4, 4, 42)     0           batch_normalization_34[0][0]     \n",
      "__________________________________________________________________________________________________\n",
      "conv2d_35 (Conv2D)              (None, 4, 4, 21)     7938        activation_34[0][0]              \n",
      "__________________________________________________________________________________________________\n",
      "concatenate_31 (Concatenate)    (None, 4, 4, 63)     0           concatenate_30[0][0]             \n",
      "                                                                 conv2d_35[0][0]                  \n",
      "__________________________________________________________________________________________________\n",
      "batch_normalization_35 (BatchNo (None, 4, 4, 63)     252         concatenate_31[0][0]             \n",
      "__________________________________________________________________________________________________\n",
      "activation_35 (Activation)      (None, 4, 4, 63)     0           batch_normalization_35[0][0]     \n",
      "__________________________________________________________________________________________________\n",
      "conv2d_36 (Conv2D)              (None, 4, 4, 21)     11907       activation_35[0][0]              \n",
      "__________________________________________________________________________________________________\n",
      "concatenate_32 (Concatenate)    (None, 4, 4, 84)     0           concatenate_31[0][0]             \n",
      "                                                                 conv2d_36[0][0]                  \n",
      "__________________________________________________________________________________________________\n",
      "batch_normalization_36 (BatchNo (None, 4, 4, 84)     336         concatenate_32[0][0]             \n",
      "__________________________________________________________________________________________________\n",
      "activation_36 (Activation)      (None, 4, 4, 84)     0           batch_normalization_36[0][0]     \n",
      "__________________________________________________________________________________________________\n",
      "conv2d_37 (Conv2D)              (None, 4, 4, 21)     15876       activation_36[0][0]              \n",
      "__________________________________________________________________________________________________\n",
      "concatenate_33 (Concatenate)    (None, 4, 4, 105)    0           concatenate_32[0][0]             \n",
      "                                                                 conv2d_37[0][0]                  \n",
      "__________________________________________________________________________________________________\n",
      "batch_normalization_37 (BatchNo (None, 4, 4, 105)    420         concatenate_33[0][0]             \n",
      "__________________________________________________________________________________________________\n",
      "activation_37 (Activation)      (None, 4, 4, 105)    0           batch_normalization_37[0][0]     \n",
      "__________________________________________________________________________________________________\n",
      "conv2d_38 (Conv2D)              (None, 4, 4, 21)     19845       activation_37[0][0]              \n",
      "__________________________________________________________________________________________________\n",
      "concatenate_34 (Concatenate)    (None, 4, 4, 126)    0           concatenate_33[0][0]             \n",
      "                                                                 conv2d_38[0][0]                  \n",
      "__________________________________________________________________________________________________\n",
      "batch_normalization_38 (BatchNo (None, 4, 4, 126)    504         concatenate_34[0][0]             \n",
      "__________________________________________________________________________________________________\n",
      "activation_38 (Activation)      (None, 4, 4, 126)    0           batch_normalization_38[0][0]     \n",
      "__________________________________________________________________________________________________\n",
      "conv2d_39 (Conv2D)              (None, 4, 4, 21)     23814       activation_38[0][0]              \n",
      "__________________________________________________________________________________________________\n",
      "concatenate_35 (Concatenate)    (None, 4, 4, 147)    0           concatenate_34[0][0]             \n",
      "                                                                 conv2d_39[0][0]                  \n",
      "__________________________________________________________________________________________________\n",
      "batch_normalization_39 (BatchNo (None, 4, 4, 147)    588         concatenate_35[0][0]             \n",
      "__________________________________________________________________________________________________\n",
      "activation_39 (Activation)      (None, 4, 4, 147)    0           batch_normalization_39[0][0]     \n",
      "__________________________________________________________________________________________________\n",
      "conv2d_40 (Conv2D)              (None, 4, 4, 21)     27783       activation_39[0][0]              \n",
      "__________________________________________________________________________________________________\n",
      "concatenate_36 (Concatenate)    (None, 4, 4, 168)    0           concatenate_35[0][0]             \n",
      "                                                                 conv2d_40[0][0]                  \n",
      "__________________________________________________________________________________________________\n",
      "batch_normalization_40 (BatchNo (None, 4, 4, 168)    672         concatenate_36[0][0]             \n",
      "__________________________________________________________________________________________________\n",
      "activation_40 (Activation)      (None, 4, 4, 168)    0           batch_normalization_40[0][0]     \n",
      "__________________________________________________________________________________________________\n",
      "conv2d_41 (Conv2D)              (None, 4, 4, 21)     31752       activation_40[0][0]              \n",
      "__________________________________________________________________________________________________\n",
      "concatenate_37 (Concatenate)    (None, 4, 4, 189)    0           concatenate_36[0][0]             \n",
      "                                                                 conv2d_41[0][0]                  \n",
      "__________________________________________________________________________________________________\n",
      "batch_normalization_41 (BatchNo (None, 4, 4, 189)    756         concatenate_37[0][0]             \n",
      "__________________________________________________________________________________________________\n",
      "activation_41 (Activation)      (None, 4, 4, 189)    0           batch_normalization_41[0][0]     \n",
      "__________________________________________________________________________________________________\n",
      "conv2d_42 (Conv2D)              (None, 4, 4, 21)     35721       activation_41[0][0]              \n",
      "__________________________________________________________________________________________________\n",
      "concatenate_38 (Concatenate)    (None, 4, 4, 210)    0           concatenate_37[0][0]             \n",
      "                                                                 conv2d_42[0][0]                  \n",
      "__________________________________________________________________________________________________\n",
      "batch_normalization_42 (BatchNo (None, 4, 4, 210)    840         concatenate_38[0][0]             \n",
      "__________________________________________________________________________________________________\n",
      "activation_42 (Activation)      (None, 4, 4, 210)    0           batch_normalization_42[0][0]     \n",
      "__________________________________________________________________________________________________\n",
      "conv2d_43 (Conv2D)              (None, 4, 4, 21)     39690       activation_42[0][0]              \n",
      "__________________________________________________________________________________________________\n",
      "concatenate_39 (Concatenate)    (None, 4, 4, 231)    0           concatenate_38[0][0]             \n",
      "                                                                 conv2d_43[0][0]                  \n",
      "__________________________________________________________________________________________________\n",
      "batch_normalization_43 (BatchNo (None, 4, 4, 231)    924         concatenate_39[0][0]             \n",
      "__________________________________________________________________________________________________\n",
      "activation_43 (Activation)      (None, 4, 4, 231)    0           batch_normalization_43[0][0]     \n",
      "__________________________________________________________________________________________________\n",
      "average_pooling2d_3 (AveragePoo (None, 2, 2, 231)    0           activation_43[0][0]              \n",
      "__________________________________________________________________________________________________\n",
      "flatten (Flatten)               (None, 924)          0           average_pooling2d_3[0][0]        \n",
      "__________________________________________________________________________________________________\n",
      "dense (Dense)                   (None, 10)           9250        flatten[0][0]                    \n",
      "==================================================================================================\n",
      "Total params: 961,348\n",
      "Trainable params: 949,798\n",
      "Non-trainable params: 11,550\n",
      "__________________________________________________________________________________________________\n"
     ]
    }
   ],
   "source": [
    "model = Model(inputs=[input], outputs=[output])\n",
    "model.summary()"
   ]
  },
  {
   "cell_type": "code",
   "execution_count": 13,
   "metadata": {
    "id": "TOeDgQ64Tmkf"
   },
   "outputs": [],
   "source": [
    "model.compile(loss='categorical_crossentropy',\n",
    "              optimizer=Adam(),\n",
    "              metrics=['accuracy'])"
   ]
  },
  {
   "cell_type": "markdown",
   "metadata": {
    "id": "oEPrIpI0zmEC"
   },
   "source": [
    "#Ref - https://machinelearningmastery.com/how-to-develop-a-cnn-from-scratch-for-cifar-10-photo-classification/\n",
    "![](cnn_cifr_2.png)"
   ]
  },
  {
   "cell_type": "code",
   "execution_count": 14,
   "metadata": {
    "id": "xgQT0XzqTseK"
   },
   "outputs": [],
   "source": [
    "# plot diagnostic learning curves\n",
    "from matplotlib import pyplot\n",
    "%matplotlib inline\n",
    "def summarize_diagnostics(history):\n",
    "    # plot loss\n",
    "    pyplot.subplot(211)\n",
    "    pyplot.title('Cross Entropy Loss')\n",
    "    pyplot.plot(history.history['loss'], color='red', label='train')\n",
    "    pyplot.plot(history.history['val_loss'], color='blue', label='test')\n",
    "    pyplot.grid(alpha=0.8)\n",
    "    # plot accuracy\n",
    "    pyplot.subplot(212)\n",
    "    pyplot.title('Classification Accuracy')\n",
    "    pyplot.plot(history.history['accuracy'], color='red', label='train')\n",
    "    pyplot.plot(history.history['val_accuracy'], color='blue', label='test')\n",
    "    pyplot.grid(alpha=0.8)\n",
    "    pyplot.show()\n",
    "    pyplot.close()"
   ]
  },
  {
   "cell_type": "code",
   "execution_count": 15,
   "metadata": {
    "id": "B35S-i9TTtnh"
   },
   "outputs": [],
   "source": [
    "\"\"\"https://machinelearningmastery.com/how-to-develop-a-cnn-from-scratch-for-cifar-10-photo-classification/\"\"\"\n",
    "def run_test_harness(trainX, testX, trainY, testY, a, b, training_model, name):\n",
    "    datagen = ImageDataGenerator(rotation_range=20, width_shift_range=0.25, height_shift_range=0.25, \n",
    "                                 horizontal_flip=True, fill_mode='nearest', zoom_range=0.10)\n",
    "    final_train = datagen.flow(trainX, trainY, batch_size=a)\n",
    "    history = training_model.fit_generator(final_train, epochs=b, validation_data=(testX, testY), verbose=1)\n",
    "    _, acc = training_model.evaluate(testX, testY, verbose=1)\n",
    "    print('> %.3f' % (acc * 100.0))\n",
    "    summarize_diagnostics(history)\n",
    "    x = \"/content/After-\"+name+\"-epochs.h5\"\n",
    "    training_model.save(x)"
   ]
  },
  {
   "cell_type": "code",
   "execution_count": 16,
   "metadata": {
    "colab": {
     "base_uri": "https://localhost:8080/",
     "height": 825
    },
    "id": "ctbxFFq2T1Jd",
    "outputId": "179852ce-1d7a-4806-b84a-28cc185a41d2"
   },
   "outputs": [
    {
     "name": "stdout",
     "output_type": "stream",
     "text": [
      "Epoch 1/15\n",
      "391/391 [==============================] - 99s 223ms/step - loss: 1.8718 - accuracy: 0.3165 - val_loss: 2.3281 - val_accuracy: 0.2624\n",
      "Epoch 2/15\n",
      "391/391 [==============================] - 86s 220ms/step - loss: 1.3563 - accuracy: 0.5072 - val_loss: 2.4923 - val_accuracy: 0.4021\n",
      "Epoch 3/15\n",
      "391/391 [==============================] - 86s 220ms/step - loss: 1.1392 - accuracy: 0.5975 - val_loss: 1.3717 - val_accuracy: 0.5891\n",
      "Epoch 4/15\n",
      "391/391 [==============================] - 86s 220ms/step - loss: 0.9903 - accuracy: 0.6483 - val_loss: 1.3349 - val_accuracy: 0.5858\n",
      "Epoch 5/15\n",
      "391/391 [==============================] - 86s 220ms/step - loss: 0.8899 - accuracy: 0.6854 - val_loss: 1.0495 - val_accuracy: 0.6622\n",
      "Epoch 6/15\n",
      "391/391 [==============================] - 86s 221ms/step - loss: 0.7948 - accuracy: 0.7237 - val_loss: 1.0013 - val_accuracy: 0.6658\n",
      "Epoch 7/15\n",
      "391/391 [==============================] - 86s 220ms/step - loss: 0.7375 - accuracy: 0.7422 - val_loss: 1.1326 - val_accuracy: 0.6480\n",
      "Epoch 8/15\n",
      "391/391 [==============================] - 86s 220ms/step - loss: 0.6880 - accuracy: 0.7593 - val_loss: 1.0150 - val_accuracy: 0.6663\n",
      "Epoch 9/15\n",
      "391/391 [==============================] - 86s 220ms/step - loss: 0.6454 - accuracy: 0.7776 - val_loss: 0.8874 - val_accuracy: 0.7285\n",
      "Epoch 10/15\n",
      "391/391 [==============================] - 86s 220ms/step - loss: 0.6214 - accuracy: 0.7846 - val_loss: 0.7794 - val_accuracy: 0.7421\n",
      "Epoch 11/15\n",
      "391/391 [==============================] - 86s 220ms/step - loss: 0.5852 - accuracy: 0.7976 - val_loss: 0.9584 - val_accuracy: 0.7099\n",
      "Epoch 12/15\n",
      "391/391 [==============================] - 86s 220ms/step - loss: 0.5658 - accuracy: 0.8045 - val_loss: 1.0457 - val_accuracy: 0.6723\n",
      "Epoch 13/15\n",
      "391/391 [==============================] - 86s 220ms/step - loss: 0.5440 - accuracy: 0.8110 - val_loss: 0.7536 - val_accuracy: 0.7628\n",
      "Epoch 14/15\n",
      "391/391 [==============================] - 86s 220ms/step - loss: 0.5211 - accuracy: 0.8196 - val_loss: 0.6117 - val_accuracy: 0.7990\n",
      "Epoch 15/15\n",
      "391/391 [==============================] - 86s 220ms/step - loss: 0.4991 - accuracy: 0.8284 - val_loss: 0.6914 - val_accuracy: 0.7812\n",
      "313/313 [==============================] - 4s 14ms/step - loss: 0.6914 - accuracy: 0.7812\n",
      "> 78.120\n"
     ]
    },
    {
     "data": {
      "image/png": "[encoded data removed]",
      "text/plain": [
       "<Figure size 432x288 with 2 Axes>"
      ]
     },
     "metadata": {
      "needs_background": "light",
      "tags": []
     },
     "output_type": "display_data"
    }
   ],
   "source": [
    "run_test_harness(X_train, X_test, y_train, y_test, 128, 15, model, '15')"
   ]
  },
  {
   "cell_type": "code",
   "execution_count": 17,
   "metadata": {
    "id": "-R53tXsJZbVS"
   },
   "outputs": [],
   "source": [
    "epoch_15 = keras.models.load_model('/content/After-15-epochs.h5')"
   ]
  },
  {
   "cell_type": "code",
   "execution_count": 18,
   "metadata": {
    "colab": {
     "base_uri": "https://localhost:8080/",
     "height": 825
    },
    "id": "i3KEGvY1kVwb",
    "outputId": "78299942-a751-4003-b1dd-0f7bbd8dbfc9"
   },
   "outputs": [
    {
     "name": "stdout",
     "output_type": "stream",
     "text": [
      "Epoch 1/15\n",
      "391/391 [==============================] - 89s 221ms/step - loss: 0.4859 - accuracy: 0.8330 - val_loss: 0.7124 - val_accuracy: 0.7783\n",
      "Epoch 2/15\n",
      "391/391 [==============================] - 86s 220ms/step - loss: 0.4750 - accuracy: 0.8356 - val_loss: 0.5785 - val_accuracy: 0.8128\n",
      "Epoch 3/15\n",
      "391/391 [==============================] - 86s 220ms/step - loss: 0.4586 - accuracy: 0.8409 - val_loss: 0.5249 - val_accuracy: 0.8303\n",
      "Epoch 4/15\n",
      "391/391 [==============================] - 86s 219ms/step - loss: 0.4438 - accuracy: 0.8472 - val_loss: 0.5262 - val_accuracy: 0.8299\n",
      "Epoch 5/15\n",
      "391/391 [==============================] - 86s 220ms/step - loss: 0.4317 - accuracy: 0.8498 - val_loss: 0.6340 - val_accuracy: 0.7936\n",
      "Epoch 6/15\n",
      "391/391 [==============================] - 86s 220ms/step - loss: 0.4168 - accuracy: 0.8563 - val_loss: 0.5195 - val_accuracy: 0.8296\n",
      "Epoch 7/15\n",
      "391/391 [==============================] - 86s 219ms/step - loss: 0.4079 - accuracy: 0.8579 - val_loss: 0.7526 - val_accuracy: 0.7804\n",
      "Epoch 8/15\n",
      "391/391 [==============================] - 86s 219ms/step - loss: 0.4015 - accuracy: 0.8595 - val_loss: 0.5155 - val_accuracy: 0.8347\n",
      "Epoch 9/15\n",
      "391/391 [==============================] - 86s 219ms/step - loss: 0.3866 - accuracy: 0.8643 - val_loss: 0.5882 - val_accuracy: 0.8146\n",
      "Epoch 10/15\n",
      "391/391 [==============================] - 86s 219ms/step - loss: 0.3803 - accuracy: 0.8681 - val_loss: 0.5455 - val_accuracy: 0.8286\n",
      "Epoch 11/15\n",
      "391/391 [==============================] - 86s 219ms/step - loss: 0.3777 - accuracy: 0.8687 - val_loss: 0.8414 - val_accuracy: 0.7510\n",
      "Epoch 12/15\n",
      "391/391 [==============================] - 86s 219ms/step - loss: 0.3644 - accuracy: 0.8732 - val_loss: 0.6257 - val_accuracy: 0.8073\n",
      "Epoch 13/15\n",
      "391/391 [==============================] - 86s 219ms/step - loss: 0.3573 - accuracy: 0.8767 - val_loss: 0.5345 - val_accuracy: 0.8287\n",
      "Epoch 14/15\n",
      "391/391 [==============================] - 86s 219ms/step - loss: 0.3503 - accuracy: 0.8767 - val_loss: 0.6385 - val_accuracy: 0.7970\n",
      "Epoch 15/15\n",
      "391/391 [==============================] - 86s 219ms/step - loss: 0.3354 - accuracy: 0.8825 - val_loss: 0.7218 - val_accuracy: 0.7898\n",
      "313/313 [==============================] - 4s 14ms/step - loss: 0.7218 - accuracy: 0.7898\n",
      "> 78.980\n"
     ]
    },
    {
     "data": {
      "image/png": "[encoded data removed]",
      "text/plain": [
       "<Figure size 432x288 with 2 Axes>"
      ]
     },
     "metadata": {
      "needs_background": "light",
      "tags": []
     },
     "output_type": "display_data"
    }
   ],
   "source": [
    "run_test_harness(X_train, X_test, y_train, y_test, 128, 15, epoch_15, '30')"
   ]
  },
  {
   "cell_type": "code",
   "execution_count": 19,
   "metadata": {
    "id": "W944kEa0kcnn"
   },
   "outputs": [],
   "source": [
    "epoch_30 = keras.models.load_model('/content/After-30-epochs.h5')"
   ]
  },
  {
   "cell_type": "code",
   "execution_count": 20,
   "metadata": {
    "colab": {
     "base_uri": "https://localhost:8080/",
     "height": 825
    },
    "id": "nV9k3zYP3Ob2",
    "outputId": "0fd607ff-5392-4e7c-d461-7faa968d5ee1"
   },
   "outputs": [
    {
     "name": "stdout",
     "output_type": "stream",
     "text": [
      "Epoch 1/15\n",
      "391/391 [==============================] - 88s 220ms/step - loss: 0.3341 - accuracy: 0.8832 - val_loss: 0.5107 - val_accuracy: 0.8427\n",
      "Epoch 2/15\n",
      "391/391 [==============================] - 86s 219ms/step - loss: 0.3260 - accuracy: 0.8863 - val_loss: 1.2036 - val_accuracy: 0.7135\n",
      "Epoch 3/15\n",
      "391/391 [==============================] - 86s 219ms/step - loss: 0.3226 - accuracy: 0.8883 - val_loss: 0.5764 - val_accuracy: 0.8263\n",
      "Epoch 4/15\n",
      "391/391 [==============================] - 86s 219ms/step - loss: 0.3193 - accuracy: 0.8895 - val_loss: 0.4449 - val_accuracy: 0.8560\n",
      "Epoch 5/15\n",
      "391/391 [==============================] - 86s 219ms/step - loss: 0.3054 - accuracy: 0.8933 - val_loss: 0.6589 - val_accuracy: 0.7981\n",
      "Epoch 6/15\n",
      "391/391 [==============================] - 86s 219ms/step - loss: 0.3007 - accuracy: 0.8953 - val_loss: 0.4230 - val_accuracy: 0.8705\n",
      "Epoch 7/15\n",
      "391/391 [==============================] - 86s 219ms/step - loss: 0.3003 - accuracy: 0.8944 - val_loss: 0.6766 - val_accuracy: 0.8130\n",
      "Epoch 8/15\n",
      "391/391 [==============================] - 86s 219ms/step - loss: 0.2886 - accuracy: 0.8989 - val_loss: 0.4456 - val_accuracy: 0.8607\n",
      "Epoch 9/15\n",
      "391/391 [==============================] - 86s 219ms/step - loss: 0.2936 - accuracy: 0.8994 - val_loss: 0.5493 - val_accuracy: 0.8347\n",
      "Epoch 10/15\n",
      "391/391 [==============================] - 86s 219ms/step - loss: 0.2834 - accuracy: 0.9009 - val_loss: 0.4556 - val_accuracy: 0.8651\n",
      "Epoch 11/15\n",
      "391/391 [==============================] - 86s 219ms/step - loss: 0.2797 - accuracy: 0.9023 - val_loss: 0.4193 - val_accuracy: 0.8666\n",
      "Epoch 12/15\n",
      "391/391 [==============================] - 85s 219ms/step - loss: 0.2801 - accuracy: 0.9026 - val_loss: 0.5001 - val_accuracy: 0.8561\n",
      "Epoch 13/15\n",
      "391/391 [==============================] - 86s 219ms/step - loss: 0.2705 - accuracy: 0.9049 - val_loss: 0.4739 - val_accuracy: 0.8599\n",
      "Epoch 14/15\n",
      "391/391 [==============================] - 86s 219ms/step - loss: 0.2652 - accuracy: 0.9066 - val_loss: 0.4186 - val_accuracy: 0.8697\n",
      "Epoch 15/15\n",
      "391/391 [==============================] - 86s 219ms/step - loss: 0.2646 - accuracy: 0.9074 - val_loss: 0.3613 - val_accuracy: 0.8851\n",
      "313/313 [==============================] - 4s 14ms/step - loss: 0.3613 - accuracy: 0.8851\n",
      "> 88.510\n"
     ]
    },
    {
     "data": {
      "image/png": "[encoded data removed]",
      "text/plain": [
       "<Figure size 432x288 with 2 Axes>"
      ]
     },
     "metadata": {
      "needs_background": "light",
      "tags": []
     },
     "output_type": "display_data"
    }
   ],
   "source": [
    "run_test_harness(X_train, X_test, y_train, y_test, 128, 15, epoch_30, '45')"
   ]
  },
  {
   "cell_type": "code",
   "execution_count": 21,
   "metadata": {
    "id": "KCZqJVWp3OZl"
   },
   "outputs": [],
   "source": [
    "epoch_45 = keras.models.load_model('/content/After-45-epochs.h5')"
   ]
  },
  {
   "cell_type": "code",
   "execution_count": 22,
   "metadata": {
    "colab": {
     "base_uri": "https://localhost:8080/",
     "height": 825
    },
    "id": "Tdcf1oHn3OWt",
    "outputId": "d69cb646-ecdf-4efd-97ce-2a20aaeeb34f"
   },
   "outputs": [
    {
     "name": "stdout",
     "output_type": "stream",
     "text": [
      "Epoch 1/15\n",
      "391/391 [==============================] - 88s 221ms/step - loss: 0.2536 - accuracy: 0.9124 - val_loss: 0.6109 - val_accuracy: 0.8249\n",
      "Epoch 2/15\n",
      "391/391 [==============================] - 85s 218ms/step - loss: 0.2572 - accuracy: 0.9092 - val_loss: 0.4101 - val_accuracy: 0.8732\n",
      "Epoch 3/15\n",
      "391/391 [==============================] - 86s 219ms/step - loss: 0.2503 - accuracy: 0.9124 - val_loss: 0.5596 - val_accuracy: 0.8406\n",
      "Epoch 4/15\n",
      "391/391 [==============================] - 86s 219ms/step - loss: 0.2479 - accuracy: 0.9125 - val_loss: 0.4066 - val_accuracy: 0.8750\n",
      "Epoch 5/15\n",
      "391/391 [==============================] - 86s 219ms/step - loss: 0.2420 - accuracy: 0.9149 - val_loss: 0.5514 - val_accuracy: 0.8403\n",
      "Epoch 6/15\n",
      "391/391 [==============================] - 86s 219ms/step - loss: 0.2425 - accuracy: 0.9149 - val_loss: 0.3740 - val_accuracy: 0.8813\n",
      "Epoch 7/15\n",
      "391/391 [==============================] - 86s 219ms/step - loss: 0.2337 - accuracy: 0.9178 - val_loss: 0.4128 - val_accuracy: 0.8731\n",
      "Epoch 8/15\n",
      "391/391 [==============================] - 86s 219ms/step - loss: 0.2357 - accuracy: 0.9166 - val_loss: 0.5088 - val_accuracy: 0.8584\n",
      "Epoch 9/15\n",
      "391/391 [==============================] - 86s 219ms/step - loss: 0.2283 - accuracy: 0.9204 - val_loss: 0.5527 - val_accuracy: 0.8436\n",
      "Epoch 10/15\n",
      "391/391 [==============================] - 85s 219ms/step - loss: 0.2276 - accuracy: 0.9212 - val_loss: 0.5348 - val_accuracy: 0.8478\n",
      "Epoch 11/15\n",
      "391/391 [==============================] - 85s 219ms/step - loss: 0.2286 - accuracy: 0.9192 - val_loss: 0.4186 - val_accuracy: 0.8735\n",
      "Epoch 12/15\n",
      "391/391 [==============================] - 86s 219ms/step - loss: 0.2211 - accuracy: 0.9220 - val_loss: 0.4016 - val_accuracy: 0.8784\n",
      "Epoch 13/15\n",
      "391/391 [==============================] - 86s 219ms/step - loss: 0.2192 - accuracy: 0.9237 - val_loss: 0.4612 - val_accuracy: 0.8625\n",
      "Epoch 14/15\n",
      "391/391 [==============================] - 86s 219ms/step - loss: 0.2172 - accuracy: 0.9227 - val_loss: 0.4004 - val_accuracy: 0.8721\n",
      "Epoch 15/15\n",
      "391/391 [==============================] - 86s 219ms/step - loss: 0.2119 - accuracy: 0.9253 - val_loss: 0.4443 - val_accuracy: 0.8737\n",
      "313/313 [==============================] - 4s 14ms/step - loss: 0.4443 - accuracy: 0.8737\n",
      "> 87.370\n"
     ]
    },
    {
     "data": {
      "image/png": "[encoded data removed]",
      "text/plain": [
       "<Figure size 432x288 with 2 Axes>"
      ]
     },
     "metadata": {
      "needs_background": "light",
      "tags": []
     },
     "output_type": "display_data"
    }
   ],
   "source": [
    "run_test_harness(X_train, X_test, y_train, y_test, 128, 15, epoch_45, '60')"
   ]
  },
  {
   "cell_type": "code",
   "execution_count": 23,
   "metadata": {
    "id": "VeSui_O73OUE"
   },
   "outputs": [],
   "source": [
    "epoch_60 = keras.models.load_model('/content/After-60-epochs.h5')"
   ]
  },
  {
   "cell_type": "code",
   "execution_count": 24,
   "metadata": {
    "colab": {
     "base_uri": "https://localhost:8080/",
     "height": 1000
    },
    "id": "BiPcVVBS3ORe",
    "outputId": "72704d45-93f8-46ab-98c9-746d2778eed9"
   },
   "outputs": [
    {
     "name": "stdout",
     "output_type": "stream",
     "text": [
      "Epoch 1/25\n",
      "391/391 [==============================] - 88s 221ms/step - loss: 0.2104 - accuracy: 0.9269 - val_loss: 0.5128 - val_accuracy: 0.8569\n",
      "Epoch 2/25\n",
      "391/391 [==============================] - 86s 219ms/step - loss: 0.2106 - accuracy: 0.9263 - val_loss: 0.5307 - val_accuracy: 0.8477\n",
      "Epoch 3/25\n",
      "391/391 [==============================] - 86s 219ms/step - loss: 0.2033 - accuracy: 0.9289 - val_loss: 0.3807 - val_accuracy: 0.8858\n",
      "Epoch 4/25\n",
      "391/391 [==============================] - 86s 219ms/step - loss: 0.1998 - accuracy: 0.9303 - val_loss: 0.4812 - val_accuracy: 0.8640\n",
      "Epoch 5/25\n",
      "391/391 [==============================] - 86s 219ms/step - loss: 0.1991 - accuracy: 0.9309 - val_loss: 0.5667 - val_accuracy: 0.8540\n",
      "Epoch 6/25\n",
      "391/391 [==============================] - 86s 219ms/step - loss: 0.1983 - accuracy: 0.9292 - val_loss: 0.6214 - val_accuracy: 0.8334\n",
      "Epoch 7/25\n",
      "391/391 [==============================] - 85s 218ms/step - loss: 0.1987 - accuracy: 0.9301 - val_loss: 0.4594 - val_accuracy: 0.8721\n",
      "Epoch 8/25\n",
      "391/391 [==============================] - 85s 218ms/step - loss: 0.1934 - accuracy: 0.9323 - val_loss: 0.5048 - val_accuracy: 0.8595\n",
      "Epoch 9/25\n",
      "391/391 [==============================] - 86s 219ms/step - loss: 0.1909 - accuracy: 0.9328 - val_loss: 0.4637 - val_accuracy: 0.8690\n",
      "Epoch 10/25\n",
      "391/391 [==============================] - 86s 220ms/step - loss: 0.1892 - accuracy: 0.9333 - val_loss: 0.4240 - val_accuracy: 0.8752\n",
      "Epoch 11/25\n",
      "391/391 [==============================] - 86s 219ms/step - loss: 0.1864 - accuracy: 0.9342 - val_loss: 0.3630 - val_accuracy: 0.8962\n",
      "Epoch 12/25\n",
      "391/391 [==============================] - 85s 218ms/step - loss: 0.1826 - accuracy: 0.9362 - val_loss: 0.4530 - val_accuracy: 0.8743\n",
      "Epoch 13/25\n",
      "391/391 [==============================] - 85s 218ms/step - loss: 0.1877 - accuracy: 0.9341 - val_loss: 0.5083 - val_accuracy: 0.8609\n",
      "Epoch 14/25\n",
      "391/391 [==============================] - 85s 218ms/step - loss: 0.1852 - accuracy: 0.9348 - val_loss: 0.4679 - val_accuracy: 0.8695\n",
      "Epoch 15/25\n",
      "391/391 [==============================] - 86s 219ms/step - loss: 0.1791 - accuracy: 0.9369 - val_loss: 0.5080 - val_accuracy: 0.8600\n",
      "Epoch 16/25\n",
      "391/391 [==============================] - 85s 218ms/step - loss: 0.1755 - accuracy: 0.9378 - val_loss: 0.4117 - val_accuracy: 0.8882\n",
      "Epoch 17/25\n",
      "391/391 [==============================] - 85s 218ms/step - loss: 0.1744 - accuracy: 0.9390 - val_loss: 0.4647 - val_accuracy: 0.8763\n",
      "Epoch 18/25\n",
      "391/391 [==============================] - 86s 219ms/step - loss: 0.1742 - accuracy: 0.9386 - val_loss: 0.4480 - val_accuracy: 0.8748\n",
      "Epoch 19/25\n",
      "391/391 [==============================] - 85s 218ms/step - loss: 0.1693 - accuracy: 0.9403 - val_loss: 0.4951 - val_accuracy: 0.8684\n",
      "Epoch 20/25\n",
      "391/391 [==============================] - 85s 218ms/step - loss: 0.1724 - accuracy: 0.9392 - val_loss: 0.4249 - val_accuracy: 0.8855\n",
      "Epoch 21/25\n",
      "391/391 [==============================] - 85s 218ms/step - loss: 0.1712 - accuracy: 0.9400 - val_loss: 0.3938 - val_accuracy: 0.8874\n",
      "Epoch 22/25\n",
      "391/391 [==============================] - 85s 219ms/step - loss: 0.1682 - accuracy: 0.9406 - val_loss: 0.4833 - val_accuracy: 0.8712\n",
      "Epoch 23/25\n",
      "391/391 [==============================] - 86s 219ms/step - loss: 0.1630 - accuracy: 0.9432 - val_loss: 0.3543 - val_accuracy: 0.8959\n",
      "Epoch 24/25\n",
      "391/391 [==============================] - 86s 219ms/step - loss: 0.1613 - accuracy: 0.9430 - val_loss: 0.3400 - val_accuracy: 0.9028\n",
      "Epoch 25/25\n",
      "391/391 [==============================] - 86s 219ms/step - loss: 0.1592 - accuracy: 0.9443 - val_loss: 0.5562 - val_accuracy: 0.8569\n",
      "313/313 [==============================] - 4s 14ms/step - loss: 0.5562 - accuracy: 0.8569\n",
      "> 85.690\n"
     ]
    },
    {
     "data": {
      "image/png": "[encoded data removed]",
      "text/plain": [
       "<Figure size 432x288 with 2 Axes>"
      ]
     },
     "metadata": {
      "needs_background": "light",
      "tags": []
     },
     "output_type": "display_data"
    }
   ],
   "source": [
    "run_test_harness(X_train, X_test, y_train, y_test, 128, 25, epoch_60, '85')"
   ]
  },
  {
   "cell_type": "code",
   "execution_count": 25,
   "metadata": {
    "id": "rxzP_v6Z3OOt"
   },
   "outputs": [],
   "source": [
    "epoch_85 = keras.models.load_model('/content/After-85-epochs.h5')"
   ]
  },
  {
   "cell_type": "code",
   "execution_count": 26,
   "metadata": {
    "colab": {
     "base_uri": "https://localhost:8080/",
     "height": 1000
    },
    "id": "jMoGzrlj3ODX",
    "outputId": "e6b1426e-b72e-4dea-87f9-c9e49697210d"
   },
   "outputs": [
    {
     "name": "stdout",
     "output_type": "stream",
     "text": [
      "Epoch 1/25\n",
      "391/391 [==============================] - 88s 220ms/step - loss: 0.1655 - accuracy: 0.9420 - val_loss: 0.4425 - val_accuracy: 0.8796\n",
      "Epoch 2/25\n",
      "391/391 [==============================] - 85s 219ms/step - loss: 0.1538 - accuracy: 0.9465 - val_loss: 0.4212 - val_accuracy: 0.8880\n",
      "Epoch 3/25\n",
      "391/391 [==============================] - 86s 219ms/step - loss: 0.1623 - accuracy: 0.9424 - val_loss: 0.3997 - val_accuracy: 0.8855\n",
      "Epoch 4/25\n",
      "391/391 [==============================] - 86s 219ms/step - loss: 0.1588 - accuracy: 0.9432 - val_loss: 0.3618 - val_accuracy: 0.9002\n",
      "Epoch 5/25\n",
      "391/391 [==============================] - 85s 218ms/step - loss: 0.1550 - accuracy: 0.9456 - val_loss: 0.3659 - val_accuracy: 0.8988\n",
      "Epoch 6/25\n",
      "391/391 [==============================] - 85s 218ms/step - loss: 0.1530 - accuracy: 0.9459 - val_loss: 0.4817 - val_accuracy: 0.8730\n",
      "Epoch 7/25\n",
      "391/391 [==============================] - 86s 219ms/step - loss: 0.1536 - accuracy: 0.9458 - val_loss: 0.4132 - val_accuracy: 0.8866\n",
      "Epoch 8/25\n",
      "391/391 [==============================] - 86s 219ms/step - loss: 0.1480 - accuracy: 0.9483 - val_loss: 0.3581 - val_accuracy: 0.9006\n",
      "Epoch 9/25\n",
      "391/391 [==============================] - 85s 218ms/step - loss: 0.1509 - accuracy: 0.9461 - val_loss: 0.4224 - val_accuracy: 0.8929\n",
      "Epoch 10/25\n",
      "391/391 [==============================] - 86s 219ms/step - loss: 0.1489 - accuracy: 0.9467 - val_loss: 0.3720 - val_accuracy: 0.8971\n",
      "Epoch 11/25\n",
      "391/391 [==============================] - 85s 218ms/step - loss: 0.1478 - accuracy: 0.9485 - val_loss: 0.4642 - val_accuracy: 0.8801\n",
      "Epoch 12/25\n",
      "391/391 [==============================] - 85s 218ms/step - loss: 0.1441 - accuracy: 0.9490 - val_loss: 0.3451 - val_accuracy: 0.9038\n",
      "Epoch 13/25\n",
      "391/391 [==============================] - 85s 218ms/step - loss: 0.1457 - accuracy: 0.9485 - val_loss: 0.4098 - val_accuracy: 0.8886\n",
      "Epoch 14/25\n",
      "391/391 [==============================] - 85s 218ms/step - loss: 0.1435 - accuracy: 0.9496 - val_loss: 0.3638 - val_accuracy: 0.8981\n",
      "Epoch 15/25\n",
      "391/391 [==============================] - 85s 218ms/step - loss: 0.1406 - accuracy: 0.9493 - val_loss: 0.3581 - val_accuracy: 0.9045\n",
      "Epoch 16/25\n",
      "391/391 [==============================] - 85s 218ms/step - loss: 0.1413 - accuracy: 0.9496 - val_loss: 0.3966 - val_accuracy: 0.8941\n",
      "Epoch 17/25\n",
      "391/391 [==============================] - 85s 218ms/step - loss: 0.1404 - accuracy: 0.9512 - val_loss: 0.3848 - val_accuracy: 0.8953\n",
      "Epoch 18/25\n",
      "391/391 [==============================] - 85s 218ms/step - loss: 0.1398 - accuracy: 0.9514 - val_loss: 0.4054 - val_accuracy: 0.8966\n",
      "Epoch 19/25\n",
      "391/391 [==============================] - 86s 219ms/step - loss: 0.1357 - accuracy: 0.9517 - val_loss: 0.4089 - val_accuracy: 0.8924\n",
      "Epoch 20/25\n",
      "391/391 [==============================] - 86s 219ms/step - loss: 0.1359 - accuracy: 0.9513 - val_loss: 0.4814 - val_accuracy: 0.8817\n",
      "Epoch 21/25\n",
      "391/391 [==============================] - 85s 218ms/step - loss: 0.1370 - accuracy: 0.9515 - val_loss: 0.4096 - val_accuracy: 0.8961\n",
      "Epoch 22/25\n",
      "391/391 [==============================] - 85s 218ms/step - loss: 0.1368 - accuracy: 0.9519 - val_loss: 0.4049 - val_accuracy: 0.8902\n",
      "Epoch 23/25\n",
      "391/391 [==============================] - 86s 219ms/step - loss: 0.1332 - accuracy: 0.9534 - val_loss: 0.3949 - val_accuracy: 0.8947\n",
      "Epoch 24/25\n",
      "391/391 [==============================] - 86s 219ms/step - loss: 0.1291 - accuracy: 0.9545 - val_loss: 0.4407 - val_accuracy: 0.8874\n",
      "Epoch 25/25\n",
      "391/391 [==============================] - 86s 219ms/step - loss: 0.1344 - accuracy: 0.9519 - val_loss: 0.4933 - val_accuracy: 0.8779\n",
      "313/313 [==============================] - 4s 14ms/step - loss: 0.4933 - accuracy: 0.8779\n",
      "> 87.790\n"
     ]
    },
    {
     "data": {
      "image/png": "[encoded data removed]",
      "text/plain": [
       "<Figure size 432x288 with 2 Axes>"
      ]
     },
     "metadata": {
      "needs_background": "light",
      "tags": []
     },
     "output_type": "display_data"
    }
   ],
   "source": [
    "run_test_harness(X_train, X_test, y_train, y_test, 128, 25, epoch_85, '110')"
   ]
  },
  {
   "cell_type": "code",
   "execution_count": 27,
   "metadata": {
    "id": "PrmreGXlzmEF"
   },
   "outputs": [],
   "source": [
    "epoch_110 = keras.models.load_model('/content/After-110-epochs.h5')"
   ]
  },
  {
   "cell_type": "code",
   "execution_count": 28,
   "metadata": {
    "colab": {
     "base_uri": "https://localhost:8080/",
     "height": 1000
    },
    "id": "BXUpdzWizmEF",
    "outputId": "bd410f65-da13-4617-acb3-18ac7dcf6f4e"
   },
   "outputs": [
    {
     "name": "stdout",
     "output_type": "stream",
     "text": [
      "Epoch 1/30\n",
      "391/391 [==============================] - 88s 221ms/step - loss: 0.1305 - accuracy: 0.9530 - val_loss: 0.4095 - val_accuracy: 0.8969\n",
      "Epoch 2/30\n",
      "391/391 [==============================] - 86s 219ms/step - loss: 0.1273 - accuracy: 0.9546 - val_loss: 0.3737 - val_accuracy: 0.8963\n",
      "Epoch 3/30\n",
      "391/391 [==============================] - 85s 218ms/step - loss: 0.1308 - accuracy: 0.9533 - val_loss: 0.3288 - val_accuracy: 0.9093\n",
      "Epoch 4/30\n",
      "391/391 [==============================] - 85s 218ms/step - loss: 0.1292 - accuracy: 0.9546 - val_loss: 0.6810 - val_accuracy: 0.8413\n",
      "Epoch 5/30\n",
      "391/391 [==============================] - 85s 218ms/step - loss: 0.1255 - accuracy: 0.9557 - val_loss: 0.4017 - val_accuracy: 0.8944\n",
      "Epoch 6/30\n",
      "391/391 [==============================] - 85s 218ms/step - loss: 0.1278 - accuracy: 0.9549 - val_loss: 0.5129 - val_accuracy: 0.8726\n",
      "Epoch 7/30\n",
      "391/391 [==============================] - 85s 218ms/step - loss: 0.1256 - accuracy: 0.9559 - val_loss: 0.4347 - val_accuracy: 0.8875\n",
      "Epoch 8/30\n",
      "391/391 [==============================] - 85s 218ms/step - loss: 0.1261 - accuracy: 0.9558 - val_loss: 0.3499 - val_accuracy: 0.9058\n",
      "Epoch 9/30\n",
      "391/391 [==============================] - 85s 218ms/step - loss: 0.1234 - accuracy: 0.9566 - val_loss: 0.3555 - val_accuracy: 0.9088\n",
      "Epoch 10/30\n",
      "391/391 [==============================] - 85s 218ms/step - loss: 0.1213 - accuracy: 0.9574 - val_loss: 0.4878 - val_accuracy: 0.8779\n",
      "Epoch 11/30\n",
      "391/391 [==============================] - 86s 219ms/step - loss: 0.1200 - accuracy: 0.9580 - val_loss: 0.4686 - val_accuracy: 0.8811\n",
      "Epoch 12/30\n",
      "391/391 [==============================] - 86s 219ms/step - loss: 0.1246 - accuracy: 0.9554 - val_loss: 0.4614 - val_accuracy: 0.8853\n",
      "Epoch 13/30\n",
      "391/391 [==============================] - 86s 219ms/step - loss: 0.1177 - accuracy: 0.9595 - val_loss: 0.3916 - val_accuracy: 0.8979\n",
      "Epoch 14/30\n",
      "391/391 [==============================] - 86s 219ms/step - loss: 0.1239 - accuracy: 0.9556 - val_loss: 0.3440 - val_accuracy: 0.9082\n",
      "Epoch 15/30\n",
      "391/391 [==============================] - 85s 218ms/step - loss: 0.1157 - accuracy: 0.9582 - val_loss: 0.3862 - val_accuracy: 0.8982\n",
      "Epoch 16/30\n",
      "391/391 [==============================] - 85s 218ms/step - loss: 0.1147 - accuracy: 0.9585 - val_loss: 0.4629 - val_accuracy: 0.8955\n",
      "Epoch 17/30\n",
      "391/391 [==============================] - 85s 218ms/step - loss: 0.1185 - accuracy: 0.9577 - val_loss: 0.4298 - val_accuracy: 0.8922\n",
      "Epoch 18/30\n",
      "391/391 [==============================] - 86s 219ms/step - loss: 0.1197 - accuracy: 0.9573 - val_loss: 0.4855 - val_accuracy: 0.8848\n",
      "Epoch 19/30\n",
      "391/391 [==============================] - 86s 219ms/step - loss: 0.1177 - accuracy: 0.9582 - val_loss: 0.3522 - val_accuracy: 0.9083\n",
      "Epoch 20/30\n",
      "391/391 [==============================] - 86s 219ms/step - loss: 0.1129 - accuracy: 0.9595 - val_loss: 0.3490 - val_accuracy: 0.9087\n",
      "Epoch 21/30\n",
      "391/391 [==============================] - 86s 219ms/step - loss: 0.1128 - accuracy: 0.9600 - val_loss: 0.4849 - val_accuracy: 0.8833\n",
      "Epoch 22/30\n",
      "391/391 [==============================] - 86s 219ms/step - loss: 0.1136 - accuracy: 0.9597 - val_loss: 0.4265 - val_accuracy: 0.8996\n",
      "Epoch 23/30\n",
      "391/391 [==============================] - 85s 218ms/step - loss: 0.1126 - accuracy: 0.9603 - val_loss: 0.3774 - val_accuracy: 0.9002\n",
      "Epoch 24/30\n",
      "391/391 [==============================] - 85s 218ms/step - loss: 0.1137 - accuracy: 0.9591 - val_loss: 0.3723 - val_accuracy: 0.9060\n",
      "Epoch 25/30\n",
      "391/391 [==============================] - 85s 218ms/step - loss: 0.1126 - accuracy: 0.9600 - val_loss: 0.4083 - val_accuracy: 0.8961\n",
      "Epoch 26/30\n",
      "391/391 [==============================] - 86s 219ms/step - loss: 0.1094 - accuracy: 0.9613 - val_loss: 0.3844 - val_accuracy: 0.8980\n",
      "Epoch 27/30\n",
      "391/391 [==============================] - 86s 219ms/step - loss: 0.1105 - accuracy: 0.9619 - val_loss: 0.4716 - val_accuracy: 0.8838\n",
      "Epoch 28/30\n",
      "391/391 [==============================] - 86s 219ms/step - loss: 0.1093 - accuracy: 0.9617 - val_loss: 0.3701 - val_accuracy: 0.9077\n",
      "Epoch 29/30\n",
      "391/391 [==============================] - 86s 219ms/step - loss: 0.1096 - accuracy: 0.9615 - val_loss: 0.3969 - val_accuracy: 0.8968\n",
      "Epoch 30/30\n",
      "391/391 [==============================] - 85s 219ms/step - loss: 0.1064 - accuracy: 0.9627 - val_loss: 0.4069 - val_accuracy: 0.9001\n",
      "313/313 [==============================] - 4s 14ms/step - loss: 0.4069 - accuracy: 0.9001\n",
      "> 90.010\n"
     ]
    },
    {
     "data": {
      "image/png": "[encoded data removed]",
      "text/plain": [
       "<Figure size 432x288 with 2 Axes>"
      ]
     },
     "metadata": {
      "needs_background": "light",
      "tags": []
     },
     "output_type": "display_data"
    }
   ],
   "source": [
    "run_test_harness(X_train, X_test, y_train, y_test, 128, 25, epoch_110, '135')"
   ]
  },
  {
   "cell_type": "markdown",
   "metadata": {
    "id": "DrvCOy8B7LKb"
   },
   "source": [
    "In 125th epoech val_accuracy is 90.87% & after running the model another 10 epoch to 135th epoch no improvement is seen. Thus the maximum val_accuracy I got is 90.87"
   ]
  },
  {
   "cell_type": "code",
   "execution_count": 28,
   "metadata": {
    "id": "cBRnWyoi7LKc"
   },
   "outputs": [],
   "source": []
  }
 ],
 "metadata": {
  "accelerator": "GPU",
  "colab": {
   "collapsed_sections": [],
   "name": "CNN_on_CIFR_Assignment.ipynb",
   "provenance": []
  },
  "kernelspec": {
   "display_name": "Python 3",
   "language": "python",
   "name": "python3"
  },
  "language_info": {
   "codemirror_mode": {
    "name": "ipython",
    "version": 3
   },
   "file_extension": ".py",
   "mimetype": "text/x-python",
   "name": "python",
   "nbconvert_exporter": "python",
   "pygments_lexer": "ipython3",
   "version": "3.6.5"
  }
 },
 "nbformat": 4,
 "nbformat_minor": 1
}
